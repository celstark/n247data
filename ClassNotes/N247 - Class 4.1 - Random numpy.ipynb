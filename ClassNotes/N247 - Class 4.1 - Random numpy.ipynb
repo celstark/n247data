{
 "cells": [
  {
   "attachments": {},
   "cell_type": "markdown",
   "metadata": {},
   "source": [
    "# Random Numpy Fun\n",
    "\n",
    "You're going to have to generate a lot of random numbers in the course and it's a great way to simulate data. Later on, you'll be doing a lot of random shuffling for things like permutation analyses, so it's best we lay the framework here.  When using numpy, the first thing you need to do is to create a random number generator.  For the vast majority of what you'll do, you can use their default generator:\n",
    "```\n",
    "import numpy as np\n",
    "rng = np.random.default_rng()\n",
    "```\n",
    "\n",
    "Here, `rng` is your random number generator and you can ask it to make [all sorts of random numbers](https://numpy.org/doc/stable/reference/random/generator.html) for you.  You might say `rng.integers(0,100,10)` for example to make 10 integers from 0-99. Here are a few useful ones to know about:\n",
    "- [`.integers(low,high,size, ...)`](https://numpy.org/doc/stable/reference/random/generated/numpy.random.Generator.integers.html#numpy.random.Generator.integers): Random integers\n",
    "- [`.random(size)`](https://numpy.org/doc/stable/reference/random/generated/numpy.random.Generator.random.html#numpy.random.Generator.random): Random uniform floats \\[0.0,1.0\\) \n",
    "- [`.shuffle(x)`](https://numpy.org/doc/stable/reference/random/generated/numpy.random.Generator.shuffle.html#numpy.random.Generator.shuffle), \n",
    "[`.permuted(x,axis)`](https://numpy.org/doc/stable/reference/random/generated/numpy.random.Generator.shuffle.html#numpy.random.Generator.permuted) and [`.permutation(x)`](https://numpy.org/doc/stable/reference/random/generated/numpy.random.Generator.shuffle.html#numpy.random.Generator.permutation): Variants on shuffling the order of items\n",
    "\n",
    "\n",
    "In the code box below, create: \n",
    "- an `A` that has 6 random integers from 0-10\n",
    "- a `B` that is a 3x2 matrix with drawn from a normal random distribution with mean 0 and standard deviation 1\n",
    "- a `C` that is a random ordering of the numbers 0-12 (all those numbers, no repetitions)"
   ]
  },
  {
   "cell_type": "code",
   "execution_count": null,
   "metadata": {},
   "outputs": [],
   "source": []
  },
  {
   "attachments": {},
   "cell_type": "markdown",
   "metadata": {},
   "source": [
    "If you run your code multiple times, you'll find, as expected, that you get different numbers each time.  But, what if you wanted the numbers to be in a _fixed, random_ order?  That's where the notion of a _random number seed_ comes in. When you create a random number generator, you can pass in the _seed_. With the same seed, you'll create the same random sequence.  The sequence is random in that, without knowing anything else, you can't predict the next one. But, if you know the seed, you can. This can be very handy.\n",
    "\n",
    "Try the code below a few times and watch what happens. The first time all looks random, right?  After that though, `rng1` varies each time, but the other two don't. Note, if you don't pass in a seed, Numpy comes up with, what's effectively a random starting point for you so things are truly random."
   ]
  },
  {
   "cell_type": "code",
   "execution_count": null,
   "metadata": {},
   "outputs": [],
   "source": [
    "import numpy as np\n",
    "\n",
    "rng1=np.random.default_rng()\n",
    "rng2=np.random.default_rng(123)\n",
    "rng3=np.random.default_rng(456)\n",
    "\n",
    "print(f'rng1: {rng1.random(5)} and {rng1.random(5)}')\n",
    "print(f'rng2: {rng2.random(5)} and {rng2.random(5)}')\n",
    "print(f'rng3: {rng3.random(5)} and {rng3.random(5)}')\n"
   ]
  }
 ],
 "metadata": {
  "kernelspec": {
   "display_name": "base",
   "language": "python",
   "name": "python3"
  },
  "language_info": {
   "codemirror_mode": {
    "name": "ipython",
    "version": 3
   },
   "file_extension": ".py",
   "mimetype": "text/x-python",
   "name": "python",
   "nbconvert_exporter": "python",
   "pygments_lexer": "ipython3",
   "version": "3.9.13"
  },
  "orig_nbformat": 4
 },
 "nbformat": 4,
 "nbformat_minor": 2
}
