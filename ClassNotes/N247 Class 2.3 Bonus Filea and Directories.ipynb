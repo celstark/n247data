{
 "cells": [
  {
   "cell_type": "markdown",
   "metadata": {},
   "source": [
    "# Bonus - Files and directories\n",
    "\n",
    "## Quick overview of file structure:\n",
    "- `/` (Mac and Linux) or `\\` (Windows) is used to indicate moving down in the file tree (folders inside folders)\n",
    "- The root or top is always `/`\n",
    "- Shorthands:\n",
    "  - `.` = current directory (folder)\n",
    "  - `..` = parent directory (one up from you)\n",
    "  - `~` = your home directory\n",
    "  - `~name` = name's home directory\n",
    "- If a directory name starts with `/`, it means start at the top.  If it doesn't, it means start from here and go down.\n",
    "- `/foo/bar/bas.txt` vs. `foo/bar/bas.txt`\n",
    "- `foo.txt` = `./foo.txt`\n",
    "\n",
    "Suppose you're in /Users/stark already and there's a file \"foo.txt\" in that directory, you could get at it by opening:\n",
    "- `foo.txt`\n",
    "- `./foo.txt`\n",
    "- `~/foo.txt`\n",
    "- `~stark/foo.txt`\n",
    "- `/Users/stark/foo.txt` (Windows or Mac) or `/home/stark/foo.txt` (Linux)\n",
    "- `../stark/foo.txt`\n",
    "- `/Users/stark/../stark/../stark/../stark/../../Users/stark/foo.txt`\n",
    "\n",
    "Suppose you're in `/Users/stark` or `/home/stark` and there's a directory called `bar` that has a file called `foo.txt`.  You could get to it by:\n",
    "- `bar/foo.txt`\n",
    "- `./bar/foo.txt`\n",
    "- `/Users/stark/bar/foo.txt` or `/home/stark/bar/foo.txt`\n",
    "\n",
    "But, you could not get to it by:\n",
    "- `/bar/foo.txt`\n",
    "- `Users/stark/bar/foo.txt`"
   ]
  },
  {
   "cell_type": "markdown",
   "metadata": {},
   "source": [
    "## Portable code\n",
    "Python has gotten pretty good about letting you use `/` as the path separator, but you should know that this is it holding your hand and that you may not be able to rely on it.  Why? Paul Allen and Bill Gates' stupid decision in MS-DOS 2.0.  So, we have:\n",
    "\n",
    "- `os.sep` = `/` on Mac and Linux, `\\` on Windows\n",
    "- `os.path.sep` = `os.sep`\n",
    "- `os.path.join(name1,name2,...)`: combine components\n",
    "  - `os.path.join('Users','stark','foo.txt')`\n",
    "  - `os.path.join(os.sep,'Users','stark','foo.txt')`\n"
   ]
  },
  {
   "cell_type": "markdown",
   "metadata": {},
   "source": [
    "## Working with directories\n",
    "Need to move around or list the contents of a folder?\n",
    "\n",
    "- `os.getcwd()`: Return the Current Working Directory (where the heck am I now?)\n",
    "- `os.path.realpath(file)`: Return the absolute path for some relative-path file or directory\n",
    "- `os.chdir(path)`: Change into the specified path (absolute or relative)\n",
    "- `os.mkdir(path)`: Make a new folder / directory\n",
    "- `os.mkdir('foo')`\n",
    "- `os.mkdir('foo/bar')` or better yet: `os.mkdir(os.join('foo','bar'))`, but not: `os.mkdir('foo2/bar2')` as you can't make >1 deep at the same time\n",
    "- `os.listdir([path])`: Show contents of directory (or current directory).  Note, you probably won't use this much and will use `glob.glob()` which allows wildcards and won't show hidden files or folders\n",
    "\n",
    "In the cell below, print out your current working directory name and then the contents of that directory. Next, show the contents of the folder above you and then the contents of the \"data\" directory inside this.  "
   ]
  },
  {
   "cell_type": "code",
   "execution_count": 2,
   "metadata": {},
   "outputs": [
    {
     "name": "stdout",
     "output_type": "stream",
     "text": [
      "/Users/stark/dev/n247data/ClassNotes\n",
      "['N247 Class 3.1 - Functions and flow control.ipynb', 'N247 classifier.ipynb', 'N247 Class 1.1 - Introduction.ipynb', 'N247 Class 6.1 Introduction to Pandas.ipynb', 'N247 PCA.ipynb', 'N247 Pandas manipulation and speed.ipynb', 'N247 Class 1.2 - Data Types.ipynb', 'N247 Class 2.2 - Introduction to Numpy.ipynb', 'N247 Class 2.1 - Variable Scope and debugging.ipynb', 'N247 Class 7 - Seaborn.ipynb', 'N247 Class 2.3 Bonus Filea and Directories.ipynb', 'N247 Class 4.1 - Random numpy.ipynb']\n"
     ]
    }
   ],
   "source": [
    "import os\n",
    "\n",
    "print(os.getcwd())\n",
    "print(os.listdir())\n"
   ]
  },
  {
   "cell_type": "markdown",
   "metadata": {},
   "source": [
    "## Globbing\n",
    "Don't ask why it's called 'globbing' (it's beyond arcane).  Glob is an active verb meaning to match according to wildcards.\n",
    "\n",
    "Wildcards\n",
    "- `*` = Anything\n",
    "- `?` = Any single character\n",
    "- `[]` = Range operator.  `[0-9]` for example\n",
    "\n",
    "Examples:\n",
    "- `glob.glob('*')` - show all files and directories\n",
    "- `glob.glob('C*')` - show all starting with the letter C (capital C)\n",
    "- `glob.glob('[A-Z]*')` - show all starting with any capital letter\n",
    "- `glob.glob('*.pdf')` - show all PDF files (those with a .pdf extension)\n",
    "- `glob.glob('????')` - show all that have only 4 characters in the name\n",
    "- `glob.glob('*.???')` - show all that have a 3-letter extension\n",
    "\n",
    "In the cell below, print out all the `csv` files in the `data` folder"
   ]
  },
  {
   "cell_type": "code",
   "execution_count": null,
   "metadata": {},
   "outputs": [],
   "source": [
    "import os, glob\n"
   ]
  }
 ],
 "metadata": {
  "kernelspec": {
   "display_name": "base",
   "language": "python",
   "name": "python3"
  },
  "language_info": {
   "codemirror_mode": {
    "name": "ipython",
    "version": 3
   },
   "file_extension": ".py",
   "mimetype": "text/x-python",
   "name": "python",
   "nbconvert_exporter": "python",
   "pygments_lexer": "ipython3",
   "version": "3.12.8"
  }
 },
 "nbformat": 4,
 "nbformat_minor": 2
}
