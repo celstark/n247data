{
 "cells": [
  {
   "cell_type": "markdown",
   "metadata": {
    "id": "R1TgqreEblG8"
   },
   "source": [
    "# How random are you?\n",
    "Just how good are people at generating random numbers?  We're going to try to find out here in this project. We're going to compare a series of user-generated random \"coin toss\" type events to actual coin toss events. In particular, we're going to see if people make random sequences or whether there's a bias embedded in there. We'll do this by looking at the distribution of run-lengths (how often do you have N in a row?).  For example, if 1=heads and 0=tails, the sequence `1 0 1 1 0 1 0 1 0 1 1 0` would have, for heads, 3 1-length runs, 2 2-length runs, and no 3-length runs.\n",
    "\n",
    "## Getting the user input\n",
    "For the first part of this project, you'll collect a series of 1's and 0's from a user. There are fancier ways of doing this but, trust me, when tossing in cross-platform aspects, macOS security, and simplicity, we're going to just use the `input` method in Python. The downside to this is that it just asks you to enter in a string and waits until you hit Enter. There's no ability to filter the keys and no ability to make sure exactly N valid keys have been pressed.\n",
    "\n",
    "So, *write a function that has the user ostensibly press a bunch of 1's or 0's. Then, take that input, remove anything other than 1 or 0. Do this using a list comprehension. You can keep it as a list or convert it back to a string.* Once that basic bit is done, *set it up so that it can take a `min` (default 20) number of 1's and 0's that must be in there and enforce this.*\n",
    "\n",
    "Remember, a string is something you can iterate over. Here, for example, taking `foo` and filtering out the numbers:\n"
   ]
  },
  {
   "cell_type": "code",
   "execution_count": 2,
   "metadata": {
    "id": "RfGLtasAblG9",
    "outputId": "c4defa09-4e0d-4c12-8767-61f3e4bae559"
   },
   "outputs": [
    {
     "name": "stdout",
     "output_type": "stream",
     "text": [
      "Sharks are4 older1 than trees\n",
      "['S', 'h', 'a', 'r', 'k', 's', ' ', 'a', 'r', 'e', ' ', 'o', 'l', 'd', 'e', 'r', ' ', 't', 'h', 'a', 'n', ' ', 't', 'r', 'e', 'e', 's']\n",
      "Sharks are older than trees\n"
     ]
    }
   ],
   "source": [
    "foo='Sharks are4 older1 than trees'\n",
    "print(foo)\n",
    "bar=[i for i in foo if not i.isnumeric()]\n",
    "print(bar)\n",
    "baz=''.join(i for i in foo if not i.isnumeric())\n",
    "print(baz)"
   ]
  },
  {
   "cell_type": "code",
   "execution_count": null,
   "metadata": {
    "colab": {
     "base_uri": "https://localhost:8080/"
    },
    "executionInfo": {
     "elapsed": 34909,
     "status": "ok",
     "timestamp": 1705260656047,
     "user": {
      "displayName": "Craig Stark",
      "userId": "11041610993007874858"
     },
     "user_tz": 480
    },
    "id": "rlJNlXGtblG9",
    "outputId": "e47fd5eb-6e59-40e8-d96a-5c2489155c98"
   },
   "outputs": [],
   "source": [
    "def GetUserSequence(min=20):\n",
    "    # Your code here\n",
    "\n",
    "userseq=GetUserSequence()\n"
   ]
  },
  {
   "cell_type": "markdown",
   "metadata": {
    "id": "x-RpXN9fblG-"
   },
   "source": [
    "## OK, so what's actually random?\n",
    "Here, we're going to write come code that actually makes a random sequence of 0's and 1's of length n (default 1000), returning this as a string.  Later on, we'll use numpy and scipy, but Python now has decent random numbers built in.  Have a look at [`random.choices`](https://docs.python.org/3/library/random.html#random.choices).  But, here's a sample of how it works:"
   ]
  },
  {
   "cell_type": "code",
   "execution_count": 7,
   "metadata": {
    "colab": {
     "base_uri": "https://localhost:8080/"
    },
    "executionInfo": {
     "elapsed": 174,
     "status": "ok",
     "timestamp": 1705260416147,
     "user": {
      "displayName": "Craig Stark",
      "userId": "11041610993007874858"
     },
     "user_tz": 480
    },
    "id": "wluvgUuubzTl",
    "outputId": "07785fe7-26a7-4b84-adc9-98985d444843"
   },
   "outputs": [
    {
     "name": "stdout",
     "output_type": "stream",
     "text": [
      "['duck', 'duck', 'duck', 'go', 'duck', 'go', 'duck', 'duck', 'go', 'duck']\n"
     ]
    }
   ],
   "source": [
    "import random\n",
    "print(random.choices(['duck','go'],[10,2],k=10))\n"
   ]
  },
  {
   "cell_type": "markdown",
   "metadata": {},
   "source": [
    "**Now, in the cell below**, write a function `GenRandom` that uses `random.choices` to make a string of `n` random 0's and 1's."
   ]
  },
  {
   "cell_type": "code",
   "execution_count": 34,
   "metadata": {
    "colab": {
     "base_uri": "https://localhost:8080/"
    },
    "executionInfo": {
     "elapsed": 138,
     "status": "ok",
     "timestamp": 1705263905583,
     "user": {
      "displayName": "Craig Stark",
      "userId": "11041610993007874858"
     },
     "user_tz": 480
    },
    "id": "hEIP4gD0blG-",
    "outputId": "19a20296-817e-4a3e-895e-3e9b27b91dc5"
   },
   "outputs": [
    {
     "name": "stdout",
     "output_type": "stream",
     "text": [
      "1000100100111010011101100101001101001011011101100111010100000011100010001001010111010011111010001100110100010101000110101011011111011011010100011100011110101101010011011100110001101011010110100010110111101110001110010000010001010111001000001010111111010011000101001010010010100101101010010011011000000010001011010010100100101010000010101101110100100111110101100110011101000001101011000100101100001000001001101010100110100110011011101100011111000110101101000010101111011000001010111101100011001110010011011010001010011101101110100011001101110011001100001001010111110000111010010100110101001111110011000100110001111011110010011111100111010011011000111010101101111110000011110100001011010001111011000100100111110111110010010100000101101010011011010001000011101010111101000001000011110101101110011100110110101101100001111101101101010001101001001010010110101010100011010001101001100011111000000111001011100000001101001011110010010110110011010101010110101010100110111000100011001100000011101001100111011010\n"
     ]
    }
   ],
   "source": [
    "import random\n",
    "def GenRandom(n=1000):\n",
    "    # Your code...\n",
    "\n",
    "rndseq=GenRandom()\n",
    "\n",
    "print(rndseq)"
   ]
  },
  {
   "cell_type": "markdown",
   "metadata": {
    "id": "-VdlNTfpd3fz"
   },
   "source": [
    "# The fun part\n",
    "Now comes the fun part.  We need to see just how often patterns come up. In particular, we're going to look for how often we get runs of length 1, runs of length 2, of length 3, ... length 8.  Python has a nice [`count`](https://docs.python.org/3/library/stdtypes.html?highlight=count#str.count) function that works on strings that we might think to use. But, the trouble is, this counts \"non-overlapping occurrences of substrings\".  Have a look at this sample.  We should end up with 1 run of length 1 and 1 of length 3, but none of length 2."
   ]
  },
  {
   "cell_type": "code",
   "execution_count": 13,
   "metadata": {
    "colab": {
     "base_uri": "https://localhost:8080/"
    },
    "executionInfo": {
     "elapsed": 133,
     "status": "ok",
     "timestamp": 1705261247808,
     "user": {
      "displayName": "Craig Stark",
      "userId": "11041610993007874858"
     },
     "user_tz": 480
    },
    "id": "T64uOgkUfPYu",
    "outputId": "54145d1b-75db-4f70-f873-5de50fae7b2c"
   },
   "outputs": [
    {
     "name": "stdout",
     "output_type": "stream",
     "text": [
      "4\n",
      "1\n",
      "1\n"
     ]
    }
   ],
   "source": [
    "foo='01001110'\n",
    "print(foo.count('1'))\n",
    "print(foo.count('11'))\n",
    "print(foo.count('111'))"
   ]
  },
  {
   "cell_type": "markdown",
   "metadata": {
    "id": "lcL1jV5rffYX"
   },
   "source": [
    "Well that's not quite right... It found 4 of length=1, 1 of length=2 (*wait - think about why it came up with just 1 of these and not 2*), and 1 of length 3.\n",
    "\n",
    "What if we made it look for 0's beforehand to make sure we're at the start of a run?"
   ]
  },
  {
   "cell_type": "code",
   "execution_count": 14,
   "metadata": {
    "colab": {
     "base_uri": "https://localhost:8080/"
    },
    "executionInfo": {
     "elapsed": 129,
     "status": "ok",
     "timestamp": 1705261366416,
     "user": {
      "displayName": "Craig Stark",
      "userId": "11041610993007874858"
     },
     "user_tz": 480
    },
    "id": "5Gf2Iyagfd9w",
    "outputId": "5fd94e32-7bd5-4116-fa6f-3527385a5e22"
   },
   "outputs": [
    {
     "name": "stdout",
     "output_type": "stream",
     "text": [
      "2\n",
      "1\n",
      "1\n"
     ]
    }
   ],
   "source": [
    "print(foo.count('01'))\n",
    "print(foo.count('011'))\n",
    "print(foo.count('0111'))"
   ]
  },
  {
   "cell_type": "markdown",
   "metadata": {
    "id": "qL4Fd_Pyf5Yb"
   },
   "source": [
    "Closer, I suppose, but still not there.  What if we looked for the full start with 0, thing, and then end with 0?"
   ]
  },
  {
   "cell_type": "code",
   "execution_count": 15,
   "metadata": {
    "colab": {
     "base_uri": "https://localhost:8080/"
    },
    "executionInfo": {
     "elapsed": 129,
     "status": "ok",
     "timestamp": 1705261414381,
     "user": {
      "displayName": "Craig Stark",
      "userId": "11041610993007874858"
     },
     "user_tz": 480
    },
    "id": "pQKJdgM9gBwg",
    "outputId": "c04313b7-79b8-416f-8f90-92959997349f"
   },
   "outputs": [
    {
     "name": "stdout",
     "output_type": "stream",
     "text": [
      "1\n",
      "0\n",
      "1\n"
     ]
    }
   ],
   "source": [
    "print(foo.count('010'))\n",
    "print(foo.count('0110'))\n",
    "print(foo.count('01110'))"
   ]
  },
  {
   "cell_type": "markdown",
   "metadata": {
    "id": "MSmqv_kjnXNY"
   },
   "source": [
    "Hey, that looks good!  Let's just test it one more time though"
   ]
  },
  {
   "cell_type": "code",
   "execution_count": 28,
   "metadata": {
    "colab": {
     "base_uri": "https://localhost:8080/"
    },
    "executionInfo": {
     "elapsed": 135,
     "status": "ok",
     "timestamp": 1705263375405,
     "user": {
      "displayName": "Craig Stark",
      "userId": "11041610993007874858"
     },
     "user_tz": 480
    },
    "id": "3hpj_iCfnV8x",
    "outputId": "24da7645-8f81-43d2-d135-db8b1a699724"
   },
   "outputs": [
    {
     "name": "stdout",
     "output_type": "stream",
     "text": [
      "6\n",
      "0\n",
      "0\n"
     ]
    }
   ],
   "source": [
    "foo='0101010101010101010101010'\n",
    "print(foo.count('010'))\n",
    "print(foo.count('0110'))\n",
    "print(foo.count('01110'))"
   ]
  },
  {
   "cell_type": "markdown",
   "metadata": {
    "id": "OTU1mmn_no3n"
   },
   "source": [
    "We were so close weren't we? I mean, really now.  6?  I count 12 in there.  *Why is it coming up with only 6?* Once we figure that out, *what might we do about it?*"
   ]
  },
  {
   "cell_type": "markdown",
   "metadata": {
    "id": "T9KK4LyrhRuK"
   },
   "source": [
    "Now, write a function that:\n",
    "\n",
    "1. Takes in a string and figures out the number of run-lenghts of 1's from 1-8.  Remember, your string could start or end with a 1, so any solution you come up with has to handle this.\n",
    "2. Divides those counts by the length of the string itself to, in some ways, normalize this so that short and long inputs are on roughly an even \"odds of run-length X\" kind of footing.  No, you can't use numpy.  A key point here is to think around obstacles for solutions.\n",
    "3. Returns a list with those \"probabilities\" as a list\n",
    "\n",
    "Then, run this on both your user-generated string and on the random string and give me a pretty printout of the results."
   ]
  },
  {
   "cell_type": "code",
   "execution_count": null,
   "metadata": {
    "id": "UaJj99QPi0Im"
   },
   "outputs": [],
   "source": [
    "def CalcRunLengthProbs(s):\n"
   ]
  }
 ],
 "metadata": {
  "colab": {
   "provenance": []
  },
  "kernelspec": {
   "display_name": "Python 3",
   "language": "python",
   "name": "python3"
  },
  "language_info": {
   "codemirror_mode": {
    "name": "ipython",
    "version": 3
   },
   "file_extension": ".py",
   "mimetype": "text/x-python",
   "name": "python",
   "nbconvert_exporter": "python",
   "pygments_lexer": "ipython3",
   "version": "3.12.1"
  }
 },
 "nbformat": 4,
 "nbformat_minor": 0
}
